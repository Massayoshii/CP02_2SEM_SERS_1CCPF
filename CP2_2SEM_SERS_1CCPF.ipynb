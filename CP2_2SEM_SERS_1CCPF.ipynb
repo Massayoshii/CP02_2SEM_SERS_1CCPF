{
  "cells": [
    {
      "cell_type": "markdown",
      "metadata": {
        "id": "view-in-github",
        "colab_type": "text"
      },
      "source": [
        "<a href=\"https://colab.research.google.com/github/Massayoshii/CP02_2SEM_SERS_1CCPF/blob/main/CP2_2SEM_SERS_1CCPF.ipynb\" target=\"_parent\"><img src=\"https://colab.research.google.com/assets/colab-badge.svg\" alt=\"Open In Colab\"/></a>"
      ]
    },
    {
      "cell_type": "markdown",
      "source": [
        "# CHECKPOINT 2 | Soluções em Energias Renováveis e Sustentáveis | 2° SEMESTRE\n",
        "\n",
        "---\n",
        "\n"
      ],
      "metadata": {
        "id": "P8iZ1MfHTVCg"
      }
    },
    {
      "cell_type": "markdown",
      "source": [
        "### **Colaboradores**\n",
        "\n",
        "*   Lucas Alves Antunes Almeida | RM: 566362\n",
        "*   Lucas Werpp Franco | RM: 556044\n",
        "*   Lucca Rosseto Rezende | RM: 564180\n",
        "*   Massayoshi Bando Fogaça e Silva | RM: 561779\n"
      ],
      "metadata": {
        "id": "FUpa0k91dkaj"
      }
    },
    {
      "cell_type": "markdown",
      "source": [
        "\n",
        "\n",
        "---\n",
        "\n",
        "\n",
        "#Bibliotecas"
      ],
      "metadata": {
        "id": "aLPxeFqUUKEV"
      }
    },
    {
      "cell_type": "code",
      "source": [
        "import pandas as pd\n",
        "import matplotlib.pyplot as plt\n",
        "import seaborn as sns\n",
        "import numpy as np\n",
        "from sklearn.ensemble import RandomForestClassifier\n",
        "from sklearn.model_selection import train_test_split\n",
        "from sklearn.linear_model import LinearRegression\n",
        "from sklearn.metrics import mean_squared_error, r2_score\n",
        "from sklearn.cluster import KMeans\n",
        "from sklearn.metrics import silhouette_score\n",
        "from sklearn import datasets\n",
        "import warnings\n",
        "from sklearn.preprocessing import StandardScaler\n",
        "from sklearn.linear_model import LogisticRegression\n",
        "from sklearn.metrics import accuracy_score, precision_score, recall_score, f1_score, confusion_matrix\n",
        "from sklearn.ensemble import RandomForestRegressor\n",
        "from sklearn.tree import DecisionTreeClassifier\n",
        "from sklearn.neighbors import KNeighborsClassifier\n",
        "from sklearn.linear_model import LogisticRegression"
      ],
      "metadata": {
        "id": "lGEggPBnUOil"
      },
      "execution_count": 1,
      "outputs": []
    },
    {
      "cell_type": "markdown",
      "source": [
        "**Criando Dataset c/ base no arquivo .txt externo**"
      ],
      "metadata": {
        "id": "1cyCmn-UXPqm"
      }
    },
    {
      "cell_type": "code",
      "source": [
        "df = pd.read_csv('/content/energydata_complete.csv',\n",
        "                 sep=',',\n",
        "                 na_values='?')"
      ],
      "metadata": {
        "id": "kP8ZPm4mAnWJ",
        "colab": {
          "base_uri": "https://localhost:8080/",
          "height": 322
        },
        "outputId": "a10f6ca7-fe9b-4dd3-bfff-9799d46531f1"
      },
      "execution_count": 2,
      "outputs": [
        {
          "output_type": "error",
          "ename": "FileNotFoundError",
          "evalue": "[Errno 2] No such file or directory: '/content/energydata_complete.csv'",
          "traceback": [
            "\u001b[0;31m---------------------------------------------------------------------------\u001b[0m",
            "\u001b[0;31mFileNotFoundError\u001b[0m                         Traceback (most recent call last)",
            "\u001b[0;32m/tmp/ipython-input-3775448650.py\u001b[0m in \u001b[0;36m<cell line: 0>\u001b[0;34m()\u001b[0m\n\u001b[0;32m----> 1\u001b[0;31m df = pd.read_csv('/content/energydata_complete.csv',\n\u001b[0m\u001b[1;32m      2\u001b[0m                  \u001b[0msep\u001b[0m\u001b[0;34m=\u001b[0m\u001b[0;34m','\u001b[0m\u001b[0;34m,\u001b[0m\u001b[0;34m\u001b[0m\u001b[0;34m\u001b[0m\u001b[0m\n\u001b[1;32m      3\u001b[0m                  na_values='?')\n",
            "\u001b[0;32m/usr/local/lib/python3.12/dist-packages/pandas/io/parsers/readers.py\u001b[0m in \u001b[0;36mread_csv\u001b[0;34m(filepath_or_buffer, sep, delimiter, header, names, index_col, usecols, dtype, engine, converters, true_values, false_values, skipinitialspace, skiprows, skipfooter, nrows, na_values, keep_default_na, na_filter, verbose, skip_blank_lines, parse_dates, infer_datetime_format, keep_date_col, date_parser, date_format, dayfirst, cache_dates, iterator, chunksize, compression, thousands, decimal, lineterminator, quotechar, quoting, doublequote, escapechar, comment, encoding, encoding_errors, dialect, on_bad_lines, delim_whitespace, low_memory, memory_map, float_precision, storage_options, dtype_backend)\u001b[0m\n\u001b[1;32m   1024\u001b[0m     \u001b[0mkwds\u001b[0m\u001b[0;34m.\u001b[0m\u001b[0mupdate\u001b[0m\u001b[0;34m(\u001b[0m\u001b[0mkwds_defaults\u001b[0m\u001b[0;34m)\u001b[0m\u001b[0;34m\u001b[0m\u001b[0;34m\u001b[0m\u001b[0m\n\u001b[1;32m   1025\u001b[0m \u001b[0;34m\u001b[0m\u001b[0m\n\u001b[0;32m-> 1026\u001b[0;31m     \u001b[0;32mreturn\u001b[0m \u001b[0m_read\u001b[0m\u001b[0;34m(\u001b[0m\u001b[0mfilepath_or_buffer\u001b[0m\u001b[0;34m,\u001b[0m \u001b[0mkwds\u001b[0m\u001b[0;34m)\u001b[0m\u001b[0;34m\u001b[0m\u001b[0;34m\u001b[0m\u001b[0m\n\u001b[0m\u001b[1;32m   1027\u001b[0m \u001b[0;34m\u001b[0m\u001b[0m\n\u001b[1;32m   1028\u001b[0m \u001b[0;34m\u001b[0m\u001b[0m\n",
            "\u001b[0;32m/usr/local/lib/python3.12/dist-packages/pandas/io/parsers/readers.py\u001b[0m in \u001b[0;36m_read\u001b[0;34m(filepath_or_buffer, kwds)\u001b[0m\n\u001b[1;32m    618\u001b[0m \u001b[0;34m\u001b[0m\u001b[0m\n\u001b[1;32m    619\u001b[0m     \u001b[0;31m# Create the parser.\u001b[0m\u001b[0;34m\u001b[0m\u001b[0;34m\u001b[0m\u001b[0m\n\u001b[0;32m--> 620\u001b[0;31m     \u001b[0mparser\u001b[0m \u001b[0;34m=\u001b[0m \u001b[0mTextFileReader\u001b[0m\u001b[0;34m(\u001b[0m\u001b[0mfilepath_or_buffer\u001b[0m\u001b[0;34m,\u001b[0m \u001b[0;34m**\u001b[0m\u001b[0mkwds\u001b[0m\u001b[0;34m)\u001b[0m\u001b[0;34m\u001b[0m\u001b[0;34m\u001b[0m\u001b[0m\n\u001b[0m\u001b[1;32m    621\u001b[0m \u001b[0;34m\u001b[0m\u001b[0m\n\u001b[1;32m    622\u001b[0m     \u001b[0;32mif\u001b[0m \u001b[0mchunksize\u001b[0m \u001b[0;32mor\u001b[0m \u001b[0miterator\u001b[0m\u001b[0;34m:\u001b[0m\u001b[0;34m\u001b[0m\u001b[0;34m\u001b[0m\u001b[0m\n",
            "\u001b[0;32m/usr/local/lib/python3.12/dist-packages/pandas/io/parsers/readers.py\u001b[0m in \u001b[0;36m__init__\u001b[0;34m(self, f, engine, **kwds)\u001b[0m\n\u001b[1;32m   1618\u001b[0m \u001b[0;34m\u001b[0m\u001b[0m\n\u001b[1;32m   1619\u001b[0m         \u001b[0mself\u001b[0m\u001b[0;34m.\u001b[0m\u001b[0mhandles\u001b[0m\u001b[0;34m:\u001b[0m \u001b[0mIOHandles\u001b[0m \u001b[0;34m|\u001b[0m \u001b[0;32mNone\u001b[0m \u001b[0;34m=\u001b[0m \u001b[0;32mNone\u001b[0m\u001b[0;34m\u001b[0m\u001b[0;34m\u001b[0m\u001b[0m\n\u001b[0;32m-> 1620\u001b[0;31m         \u001b[0mself\u001b[0m\u001b[0;34m.\u001b[0m\u001b[0m_engine\u001b[0m \u001b[0;34m=\u001b[0m \u001b[0mself\u001b[0m\u001b[0;34m.\u001b[0m\u001b[0m_make_engine\u001b[0m\u001b[0;34m(\u001b[0m\u001b[0mf\u001b[0m\u001b[0;34m,\u001b[0m \u001b[0mself\u001b[0m\u001b[0;34m.\u001b[0m\u001b[0mengine\u001b[0m\u001b[0;34m)\u001b[0m\u001b[0;34m\u001b[0m\u001b[0;34m\u001b[0m\u001b[0m\n\u001b[0m\u001b[1;32m   1621\u001b[0m \u001b[0;34m\u001b[0m\u001b[0m\n\u001b[1;32m   1622\u001b[0m     \u001b[0;32mdef\u001b[0m \u001b[0mclose\u001b[0m\u001b[0;34m(\u001b[0m\u001b[0mself\u001b[0m\u001b[0;34m)\u001b[0m \u001b[0;34m->\u001b[0m \u001b[0;32mNone\u001b[0m\u001b[0;34m:\u001b[0m\u001b[0;34m\u001b[0m\u001b[0;34m\u001b[0m\u001b[0m\n",
            "\u001b[0;32m/usr/local/lib/python3.12/dist-packages/pandas/io/parsers/readers.py\u001b[0m in \u001b[0;36m_make_engine\u001b[0;34m(self, f, engine)\u001b[0m\n\u001b[1;32m   1878\u001b[0m                 \u001b[0;32mif\u001b[0m \u001b[0;34m\"b\"\u001b[0m \u001b[0;32mnot\u001b[0m \u001b[0;32min\u001b[0m \u001b[0mmode\u001b[0m\u001b[0;34m:\u001b[0m\u001b[0;34m\u001b[0m\u001b[0;34m\u001b[0m\u001b[0m\n\u001b[1;32m   1879\u001b[0m                     \u001b[0mmode\u001b[0m \u001b[0;34m+=\u001b[0m \u001b[0;34m\"b\"\u001b[0m\u001b[0;34m\u001b[0m\u001b[0;34m\u001b[0m\u001b[0m\n\u001b[0;32m-> 1880\u001b[0;31m             self.handles = get_handle(\n\u001b[0m\u001b[1;32m   1881\u001b[0m                 \u001b[0mf\u001b[0m\u001b[0;34m,\u001b[0m\u001b[0;34m\u001b[0m\u001b[0;34m\u001b[0m\u001b[0m\n\u001b[1;32m   1882\u001b[0m                 \u001b[0mmode\u001b[0m\u001b[0;34m,\u001b[0m\u001b[0;34m\u001b[0m\u001b[0;34m\u001b[0m\u001b[0m\n",
            "\u001b[0;32m/usr/local/lib/python3.12/dist-packages/pandas/io/common.py\u001b[0m in \u001b[0;36mget_handle\u001b[0;34m(path_or_buf, mode, encoding, compression, memory_map, is_text, errors, storage_options)\u001b[0m\n\u001b[1;32m    871\u001b[0m         \u001b[0;32mif\u001b[0m \u001b[0mioargs\u001b[0m\u001b[0;34m.\u001b[0m\u001b[0mencoding\u001b[0m \u001b[0;32mand\u001b[0m \u001b[0;34m\"b\"\u001b[0m \u001b[0;32mnot\u001b[0m \u001b[0;32min\u001b[0m \u001b[0mioargs\u001b[0m\u001b[0;34m.\u001b[0m\u001b[0mmode\u001b[0m\u001b[0;34m:\u001b[0m\u001b[0;34m\u001b[0m\u001b[0;34m\u001b[0m\u001b[0m\n\u001b[1;32m    872\u001b[0m             \u001b[0;31m# Encoding\u001b[0m\u001b[0;34m\u001b[0m\u001b[0;34m\u001b[0m\u001b[0m\n\u001b[0;32m--> 873\u001b[0;31m             handle = open(\n\u001b[0m\u001b[1;32m    874\u001b[0m                 \u001b[0mhandle\u001b[0m\u001b[0;34m,\u001b[0m\u001b[0;34m\u001b[0m\u001b[0;34m\u001b[0m\u001b[0m\n\u001b[1;32m    875\u001b[0m                 \u001b[0mioargs\u001b[0m\u001b[0;34m.\u001b[0m\u001b[0mmode\u001b[0m\u001b[0;34m,\u001b[0m\u001b[0;34m\u001b[0m\u001b[0;34m\u001b[0m\u001b[0m\n",
            "\u001b[0;31mFileNotFoundError\u001b[0m: [Errno 2] No such file or directory: '/content/energydata_complete.csv'"
          ]
        }
      ]
    },
    {
      "cell_type": "markdown",
      "source": [
        "**Análise Exploratória**"
      ],
      "metadata": {
        "id": "tFHiPtmcEh4-"
      }
    },
    {
      "cell_type": "code",
      "source": [
        "df.head(11)"
      ],
      "metadata": {
        "id": "AwRzz-i_Ets4"
      },
      "execution_count": null,
      "outputs": []
    },
    {
      "cell_type": "markdown",
      "source": [
        "**Analisando Características do Dataset**"
      ],
      "metadata": {
        "id": "bcx3wLfc5UwK"
      }
    },
    {
      "cell_type": "code",
      "source": [
        "# Categorias da Tabela\n",
        "df.columns"
      ],
      "metadata": {
        "id": "ae4so-SE5bTK"
      },
      "execution_count": null,
      "outputs": []
    },
    {
      "cell_type": "code",
      "source": [
        "# Tamanho do Dataset\n",
        "df.shape\n",
        "print(f\"O Data frame possuí {df.shape[0]} linhas e {df.shape[1]} colunas\")"
      ],
      "metadata": {
        "id": "MuDTSpaj6Smo"
      },
      "execution_count": null,
      "outputs": []
    },
    {
      "cell_type": "code",
      "source": [
        "# Características dos Atributos\n",
        "df.info()"
      ],
      "metadata": {
        "id": "isUN4BCJ6dSf"
      },
      "execution_count": null,
      "outputs": []
    },
    {
      "cell_type": "code",
      "source": [
        "# Descrição Estátistica das Colunas\n",
        "df.describe()"
      ],
      "metadata": {
        "id": "YcFVYFeE8Cr8"
      },
      "execution_count": null,
      "outputs": []
    },
    {
      "cell_type": "markdown",
      "source": [
        "# Atividade 1"
      ],
      "metadata": {
        "id": "5V1alPTlj8Ye"
      }
    },
    {
      "cell_type": "markdown",
      "source": [
        "#Parte 1 – Regressão (Appliances Energy Prediction)\n",
        "Você receberá um conjunto de dados contendo informações ambientais de uma residência\n",
        "(temperatura, umidade, pressão, hora do dia etc.) e o consumo de energia dos eletrodomésticos\n",
        "(Wh).\n",
        "\n",
        "• Seu desafio será prever o consumo de energia a partir das variáveis ambientais.\n",
        "• Teste diferentes modelos (ex.: Regressão Linear, Árvore de Regressão, Random Forest) e\n",
        "avalie o desempenho com métricas como R², RMSE e MAE.\n",
        "• Compare os resultados e discuta qual modelo melhor explica o consumo\n"
      ],
      "metadata": {
        "id": "P2Yv61FYVXRg"
      }
    },
    {
      "cell_type": "markdown",
      "source": [
        "**Testando os modelos**"
      ],
      "metadata": {
        "id": "M6DpZ6L9WiGA"
      }
    },
    {
      "cell_type": "markdown",
      "source": [
        "**Regressao linear**"
      ],
      "metadata": {
        "id": "3O6WwEPKaYiY"
      }
    },
    {
      "cell_type": "code",
      "source": [
        "#Regressao linear\n",
        "from sklearn.linear_model import LinearRegression\n",
        "from sklearn.metrics import mean_squared_error, r2_score\n",
        "from sklearn.model_selection import train_test_split\n",
        "\n",
        "# Convert 'date' column to datetime objects\n",
        "df['date'] = pd.to_datetime(df['date'])\n",
        "\n",
        "# Define features (X) and target (y)\n",
        "features = ['lights', 'T1', 'RH_1', 'T2', 'RH_2', 'T3', 'RH_3', 'T4', 'RH_4', 'T5', 'RH_5', 'T6', 'RH_6', 'T7', 'RH_7', 'T8', 'RH_8', 'T9', 'RH_9', 'T_out', 'Press_mm_hg', 'RH_out', 'Windspeed', 'Visibility', 'Tdewpoint']\n",
        "target = 'Appliances'\n",
        "\n",
        "X = df[features]\n",
        "y = df[target]\n",
        "\n",
        "# Split data into training and testing sets\n",
        "X_train, X_test, y_train, y_test = train_test_split(X, y, test_size=0.2, random_state=42)\n",
        "\n",
        "# Initialize and train the Linear Regression model\n",
        "model = LinearRegression()\n",
        "model.fit(X_train, y_train)\n",
        "\n",
        "# Make predictions\n",
        "y_pred = model.predict(X_test)\n",
        "\n",
        "# Evaluate the model\n",
        "mse = mean_squared_error(y_test, y_pred)\n",
        "rmse = np.sqrt(mse)\n",
        "r2 = r2_score(y_test, y_pred)\n",
        "\n",
        "print(f\"Linear Regression Model Performance:\")\n",
        "print(f\"  Mean Squared Error (MSE): {mse:.2f}\")\n",
        "print(f\"  Root Mean Squared Error (RMSE): {rmse:.2f}\")\n",
        "print(f\"  R-squared (R²): {r2:.2f}\")"
      ],
      "metadata": {
        "id": "CMq8JT7BWsTp"
      },
      "execution_count": null,
      "outputs": []
    },
    {
      "cell_type": "markdown",
      "metadata": {
        "id": "a90dde2c"
      },
      "source": [
        "**Random Forest Regressor Model**\n",
        "\n"
      ]
    },
    {
      "cell_type": "code",
      "metadata": {
        "id": "bb355926"
      },
      "source": [
        "from sklearn.ensemble import RandomForestRegressor\n",
        "from sklearn.metrics import mean_squared_error, r2_score, mean_absolute_error\n",
        "\n",
        "rf_model = RandomForestRegressor(n_estimators=100, random_state=42)\n",
        "rf_model.fit(X_train, y_train)\n",
        "\n",
        "y_pred_rf = rf_model.predict(X_test)\n",
        "\n",
        "mse_rf = mean_squared_error(y_test, y_pred_rf)\n",
        "rmse_rf = np.sqrt(mse_rf)\n",
        "r2_rf = r2_score(y_test, y_pred_rf)\n",
        "mae_rf = mean_absolute_error(y_test, y_pred_rf)\n",
        "\n",
        "print(f\"Random Forest Regressor Model Performance:\")\n",
        "print(f\"  Mean Squared Error (MSE): {mse_rf:.2f}\")\n",
        "print(f\"  Root Mean Squared Error (RMSE): {rmse_rf:.2f}\")\n",
        "print(f\"  R-squared (R²): {r2_rf:.2f}\")\n",
        "print(f\"  Mean Absolute Error (MAE): {mae_rf:.2f}\")"
      ],
      "execution_count": null,
      "outputs": []
    },
    {
      "cell_type": "markdown",
      "source": [
        "**Arvore de regressao**"
      ],
      "metadata": {
        "id": "17DcY3NaaP0g"
      }
    },
    {
      "cell_type": "code",
      "source": [
        "from sklearn.tree import DecisionTreeRegressor\n",
        "from sklearn.metrics import mean_squared_error, r2_score, mean_absolute_error\n",
        "import numpy as np\n",
        "\n",
        "# Initialize and train the Decision Tree Regressor model\n",
        "dt_model = DecisionTreeRegressor(random_state=42)\n",
        "dt_model.fit(X_train, y_train)\n",
        "\n",
        "# Make predictions\n",
        "y_pred_dt = dt_model.predict(X_test)\n",
        "\n",
        "# Evaluate the model\n",
        "mse_dt = mean_squared_error(y_test, y_pred_dt)\n",
        "rmse_dt = np.sqrt(mse_dt)\n",
        "r2_dt = r2_score(y_test, y_pred_dt)\n",
        "mae_dt = mean_absolute_error(y_test, y_pred_dt)\n",
        "\n",
        "print(f\"Decision Tree Regressor Model Performance:\")\n",
        "print(f\"  Mean Squared Error (MSE): {mse_dt:.2f}\")\n",
        "print(f\"  Root Mean Squared Error (RMSE): {rmse_dt:.2f}\")\n",
        "print(f\"  R-squared (R²): {r2_dt:.2f}\")\n",
        "print(f\"  Mean Absolute Error (MAE): {mae_dt:.2f}\")"
      ],
      "metadata": {
        "id": "B1fsHJwXatxI"
      },
      "execution_count": null,
      "outputs": []
    },
    {
      "cell_type": "markdown",
      "source": [
        "**Comparando os resultados**"
      ],
      "metadata": {
        "id": "7TO1kSuic69B"
      }
    },
    {
      "cell_type": "code",
      "source": [
        "print(\"Comparação dos Resultados dos Modelos:\")\n",
        "print(\"-\" * 40)\n",
        "print(f\"Regressão Linear:\")\n",
        "print(f\"  MSE: {mse:.2f}\")\n",
        "print(f\"  RMSE: {rmse:.2f}\")\n",
        "print(f\"  R²: {r2:.2f}\")\n",
        "print(\"-\" * 40)\n",
        "print(f\"Random Forest Regressor:\")\n",
        "print(f\"  MSE: {mse_rf:.2f}\")\n",
        "print(f\"  RMSE: {rmse_rf:.2f}\")\n",
        "print(f\"  R²: {r2_rf:.2f}\")\n",
        "print(f\"  MAE: {mae_rf:.2f}\")\n",
        "print(\"-\" * 40)\n",
        "print(f\"Árvore de Regressão:\")\n",
        "print(f\"  MSE: {mse_dt:.2f}\")\n",
        "print(f\"  RMSE: {rmse_dt:.2f}\")\n",
        "print(f\"  R²: {r2_dt:.2f}\")\n",
        "print(f\"  MAE: {mae_dt:.2f}\")\n",
        "print(\"-\" * 40)\n",
        "\n",
        "print(\"\\nDiscussão:\")\n",
        "print(\"Todos os modelos apresentaram R² muito baixos (cerca de 0.05), indicando que as variáveis ambientais sozinhas não explicam significativamente o consumo de energia.\")\n",
        "print(\"A Árvore de Regressão teve o melhor desempenho entre os três, com menor MSE e RMSE e maior R², mas a capacidade preditiva geral ainda é limitada.\")"
      ],
      "metadata": {
        "id": "hsI8Dgx1c__x"
      },
      "execution_count": null,
      "outputs": []
    },
    {
      "cell_type": "markdown",
      "source": [
        "## Parte 2 - Classificação (Smart Grid Stability)\n",
        "\n",
        "Você receberá um conjunto de dados simulados de uma rede elétrica inteligente, com variáveis\n",
        "como potência ativa, potência reativa, tensão e corrente. O dataset indica se a rede está estável ou\n",
        "instável.\n",
        "\n",
        "• Seu desafio será classificar a estabilidade da rede com base nas variáveis fornecidas.\n",
        "\n",
        "• Treine modelos de classificação (ex.: Árvore de Decisão, KNN, Regressão Logística) e avalie o\n",
        "desempenho com acurácia, matriz de confusão e F1-score.\n",
        "\n",
        "• Compare os resultados e discuta qual modelo é mais confiável para detectar instabilidade."
      ],
      "metadata": {
        "id": "4hqlcqrukHHz"
      }
    },
    {
      "cell_type": "markdown",
      "source": [
        "**Carregando Dataset**"
      ],
      "metadata": {
        "id": "tQ8a9PX5k5G_"
      }
    },
    {
      "cell_type": "code",
      "source": [
        "df = pd.read_csv(\"smart_grid_stability_augmented.csv\")\n",
        "df.head()"
      ],
      "metadata": {
        "id": "dZfNVQhQkqsP"
      },
      "execution_count": null,
      "outputs": []
    },
    {
      "cell_type": "markdown",
      "source": [
        "**Preparando Dados**"
      ],
      "metadata": {
        "id": "2lnsPEDplZIP"
      }
    },
    {
      "cell_type": "code",
      "source": [
        "# X = todas as colunas exceto a classe\n",
        "X = df.drop(\"stabf\", axis=1)\n",
        "\n",
        "# y = variável alvo (stable/unstable)\n",
        "y = df[\"stabf\"]\n",
        "\n",
        "# Converter para 0 e 1\n",
        "y = y.map({\"stable\": 0, \"unstable\": 1})"
      ],
      "metadata": {
        "id": "XZxTP2MslbYk"
      },
      "execution_count": null,
      "outputs": []
    },
    {
      "cell_type": "markdown",
      "source": [
        "**Dividindo Treino e Teste**"
      ],
      "metadata": {
        "id": "ZSGxmZUNleJt"
      }
    },
    {
      "cell_type": "code",
      "source": [
        "X_train, X_test, y_train, y_test = train_test_split(\n",
        "    X, y, test_size=0.2, random_state=42, stratify=y\n",
        "    )"
      ],
      "metadata": {
        "id": "-RTEaBW2lgiR"
      },
      "execution_count": null,
      "outputs": []
    },
    {
      "cell_type": "markdown",
      "source": [
        "**Padronizando Dados**"
      ],
      "metadata": {
        "id": "5BOJHR95lmEz"
      }
    },
    {
      "cell_type": "code",
      "source": [
        "scaler = StandardScaler()\n",
        "X_train = scaler.fit_transform(X_train)\n",
        "X_test = scaler.transform(X_test)"
      ],
      "metadata": {
        "id": "QDsRgQU_loUB"
      },
      "execution_count": null,
      "outputs": []
    },
    {
      "cell_type": "markdown",
      "source": [
        "**Treinando os Modelos**"
      ],
      "metadata": {
        "id": "ayfikCV0lri-"
      }
    },
    {
      "cell_type": "code",
      "source": [
        "# Árvore de Decisão\n",
        "tree = DecisionTreeClassifier(random_state=42)\n",
        "tree.fit(X_train, y_train)\n",
        "\n",
        "# KNN\n",
        "knn = KNeighborsClassifier(n_neighbors=5)\n",
        "knn.fit(X_train, y_train)\n",
        "\n",
        "# Regressão Logística\n",
        "logreg = LogisticRegression(max_iter=1000)\n",
        "logreg.fit(X_train, y_train)"
      ],
      "metadata": {
        "id": "MdBC2v-alxBM"
      },
      "execution_count": null,
      "outputs": []
    },
    {
      "cell_type": "markdown",
      "source": [
        "**Avaliando os Modelos**"
      ],
      "metadata": {
        "id": "qyz7JHH4mDpi"
      }
    },
    {
      "cell_type": "code",
      "source": [
        "models = {\"Árvore de Decisão\": tree, \"KNN\": knn, \"Regressão Logística\": logreg}\n",
        "\n",
        "for name, model in models.items():\n",
        "    y_pred = model.predict(X_test)\n",
        "    print(f\"\\n===== {name} =====\")\n",
        "    print(\"Acurácia:\", accuracy_score(y_test, y_pred))\n",
        "    print(\"Matriz de Confusão:\\n\", confusion_matrix(y_test, y_pred))\n",
        "    print(\"Relatório de Classificação:\\n\", classification_report(y_test, y_pred))\n"
      ],
      "metadata": {
        "id": "bI39hHdLmDKk"
      },
      "execution_count": null,
      "outputs": []
    },
    {
      "cell_type": "markdown",
      "source": [
        "**Gráfico Comparativo**"
      ],
      "metadata": {
        "id": "YzlXqj9XmRi8"
      }
    },
    {
      "cell_type": "code",
      "source": [
        "import matplotlib.pyplot as plt\n",
        "from sklearn.metrics import f1_score\n",
        "\n",
        "# Dicionários para guardar métricas\n",
        "acc_scores = {}\n",
        "f1_scores = {}\n",
        "\n",
        "for name, model in models.items():\n",
        "    y_pred = model.predict(X_test)\n",
        "    acc_scores[name] = accuracy_score(y_test, y_pred)\n",
        "    f1_scores[name] = f1_score(y_test, y_pred)\n",
        "\n",
        "# Preparar dados para o gráfico\n",
        "labels = list(models.keys())\n",
        "x = np.arange(len(labels))\n",
        "width = 0.35\n",
        "\n",
        "fig, ax = plt.subplots(figsize=(8,5))\n",
        "rects1 = ax.bar(x - width/2, acc_scores.values(), width, label='Acurácia')\n",
        "rects2 = ax.bar(x + width/2, f1_scores.values(), width, label='F1-score')\n",
        "\n",
        "# Adicionar detalhes no gráfico\n",
        "ax.set_ylabel('Pontuação')\n",
        "ax.set_title('Comparação de Modelos - Smart Grid Stability')\n",
        "ax.set_xticks(x)\n",
        "ax.set_xticklabels(labels)\n",
        "ax.legend()\n",
        "\n",
        "# Mostrar valores em cima das barras\n",
        "for rect in rects1 + rects2:\n",
        "    height = rect.get_height()\n",
        "    ax.annotate(f'{height:.2f}',\n",
        "                xy=(rect.get_x() + rect.get_width() / 2, height),\n",
        "                xytext=(0, 3),  # deslocamento\n",
        "                textcoords=\"offset points\",\n",
        "                ha='center', va='bottom')\n",
        "\n",
        "plt.show()"
      ],
      "metadata": {
        "id": "1abvTfbImUja"
      },
      "execution_count": null,
      "outputs": []
    },
    {
      "cell_type": "markdown",
      "source": [
        "# **Exercício 1 – Classificação (Solar)**"
      ],
      "metadata": {
        "id": "NDTs9hM3VD_K"
      }
    },
    {
      "cell_type": "markdown",
      "source": [
        "Utilize o dataset de radiação solar para treinar um modelo supervisionado para classificar\n",
        "períodos em Alta Radiação e Baixa Radiação (crie a variável-alvo a partir de um limiar,\n",
        "por exemplo, a mediana da radiação). Compare o desempenho de três algoritmos do\n",
        "Scikit-learn, como Árvore de Decisão, Random Forest e Support Vector Machine\n",
        "(SVM).\n",
        "\n",
        "• Separe dados em treino e teste (70/30).\n",
        "\n",
        "• Normalize os atributos contínuos, se necessário.\n",
        "\n",
        "• Avalie com acurácia e matriz de confusão."
      ],
      "metadata": {
        "id": "pPTM4IXCVARU"
      }
    },
    {
      "cell_type": "code",
      "source": [
        "# Carregar o dataset\n",
        "df_solar = pd.read_csv('/content/SolarPrediction.csv')\n",
        "\n",
        "# Criar a variável alvo 'HighRadiation' baseada na mediana\n",
        "median_radiation = df_solar['Radiation'].median()\n",
        "df_solar['HighRadiation'] = (df_solar['Radiation'] > median_radiation).astype(int)\n",
        "\n",
        "# Selecionar features e target\n",
        "# Excluindo colunas que não são relevantes para o modelo\n",
        "features_solar = ['Temperature', 'Humidity', 'WindDirection(Degrees)', 'Speed', 'Pressure']\n",
        "target_solar = 'HighRadiation'\n",
        "\n",
        "X_solar = df_solar[features_solar]\n",
        "y_solar = df_solar[target_solar]\n",
        "\n",
        "# Separar dados em treino e teste (70/30)\n",
        "X_train_solar, X_test_solar, y_train_solar, y_test_solar = train_test_split(\n",
        "    X_solar, y_solar, test_size=0.3, random_state=42, stratify=y_solar\n",
        ")\n",
        "\n",
        "# Normalizar os atributos contínuos\n",
        "scaler_solar = StandardScaler()\n",
        "X_train_solar_scaled = scaler_solar.fit_transform(X_train_solar)\n",
        "X_test_solar_scaled = scaler_solar.transform(X_test_solar)\n",
        "\n",
        "# Inicializar e treinar os modelos\n",
        "# Árvore de Decisão\n",
        "dt_solar = DecisionTreeClassifier(random_state=42)\n",
        "dt_solar.fit(X_train_solar_scaled, y_train_solar)\n",
        "\n",
        "# Random Forest\n",
        "rf_solar = RandomForestClassifier(n_estimators=100, random_state=42)\n",
        "rf_solar.fit(X_train_solar_scaled, y_train_solar)\n",
        "\n",
        "# Support Vector Machine (SVM)\n",
        "# Usando um kernel linear para começar, pode ser ajustado\n",
        "svm_solar = SVC(kernel='linear', random_state=42)\n",
        "svm_solar.fit(X_train_solar_scaled, y_train_solar)\n",
        "\n",
        "# Avaliar os modelos\n",
        "models_solar = {\"Árvore de Decisão\": dt_solar, \"Random Forest\": rf_solar, \"SVM\": svm_solar}\n",
        "\n",
        "print(\"===== Avaliação dos Modelos de Classificação Solar =====\")\n",
        "\n",
        "for name, model in models_solar.items():\n",
        "    y_pred_solar = model.predict(X_test_solar_scaled)\n",
        "    print(f\"\\n--- {name} ---\")\n",
        "    print(\"Acurácia:\", accuracy_score(y_test_solar, y_pred_solar))\n",
        "    print(\"Matriz de Confusão:\\n\", confusion_matrix(y_test_solar, y_pred_solar))\n",
        "    # You can also print classification report for more detailed metrics\n",
        "    # print(\"Relatório de Classificação:\\n\", classification_report(y_test_solar, y_pred_solar))"
      ],
      "metadata": {
        "id": "pUpPWvpjVKLO"
      },
      "execution_count": null,
      "outputs": []
    },
    {
      "cell_type": "markdown",
      "source": [
        "# Atividade 2"
      ],
      "metadata": {
        "id": "ZLkZdUEDkEcV"
      }
    },
    {
      "cell_type": "markdown",
      "source": [
        "# **Parte 2 - Exercício 2 – Regressão (Eólica)**"
      ],
      "metadata": {
        "id": "Wntfbah342tS"
      }
    },
    {
      "cell_type": "markdown",
      "source": [
        "### **Título: Previsão de potência de turbinas eólicas**\n"
      ],
      "metadata": {
        "id": "dnlN-DnF5kyj"
      }
    },
    {
      "cell_type": "code",
      "source": [
        "df = pd.read_csv('/content/T1.csv',\n",
        "                 sep=',',\n",
        "                 na_values='?')"
      ],
      "metadata": {
        "id": "7RLFyASn5y_b"
      },
      "execution_count": null,
      "outputs": []
    },
    {
      "cell_type": "markdown",
      "metadata": {
        "id": "5ac551c8"
      },
      "source": [
        "## Treinamento e avaliação de modelos\n",
        "\n",
        "### Subtask:\n",
        "Treinar e avaliar os modelos de Regressão Linear, Árvore de Regressão e Random Forest Regressor usando as métricas RMSE e R²."
      ]
    },
    {
      "cell_type": "markdown",
      "metadata": {
        "id": "9e01b682"
      },
      "source": [
        "# Task\n",
        "Analise o conjunto de dados \"turbina_eolica.csv\" para prever a potência gerada (kW) com base em dados de operação de turbinas eólicas. Treine e compare os modelos de Regressão Linear, Árvore de Regressão e Random Forest Regressor do Scikit-learn, avaliando-os com RMSE e R² em uma divisão de treino/teste 80/20."
      ]
    },
    {
      "cell_type": "markdown",
      "metadata": {
        "id": "53f23ce9"
      },
      "source": [
        "## Pré-processamento de dados\n",
        "\n",
        "### Subtask:\n",
        "Carregar o conjunto de dados e realizar a limpeza e transformação necessárias, incluindo a conversão da coluna 'Date/Time' para o formato datetime e a normalização dos dados, se necessário.\n"
      ]
    },
    {
      "cell_type": "markdown",
      "metadata": {
        "id": "dd81b9bf"
      },
      "source": [
        "**Reasoning**:\n",
        "Converter a coluna 'Date/Time' para objetos datetime e exibir as primeiras linhas para verificar a conversão."
      ]
    },
    {
      "cell_type": "code",
      "metadata": {
        "id": "YOm_iI1b6cLu"
      },
      "source": [
        "df['Date/Time'] = pd.to_datetime(df['Date/Time'], format='%d %m %Y %H:%M')\n",
        "display(df.head())"
      ],
      "execution_count": null,
      "outputs": []
    },
    {
      "cell_type": "code",
      "metadata": {
        "id": "25fe986f"
      },
      "source": [
        "print(df.isnull().sum())"
      ],
      "execution_count": null,
      "outputs": []
    },
    {
      "cell_type": "markdown",
      "metadata": {
        "id": "80eda510"
      },
      "source": [
        "**Reasoning**:\n",
        "A coluna 'Date/Time' foi convertida com sucesso para objetos datetime. Agora vou verificar se há valores ausentes para garantir que os dados estejam limpos antes de prosseguir para as próximas etapas de normalização ou treinamento do modelo."
      ]
    },
    {
      "cell_type": "code",
      "metadata": {
        "id": "396fd92f"
      },
      "source": [
        "# Colunas numéricas a serem normalizadas (excluindo a coluna alvo)\n",
        "numerical_cols = ['LV ActivePower (kW)', 'Wind Speed (m/s)', 'Theoretical_Power_Curve (KWh)', 'Wind Direction (°)']\n",
        "\n",
        "# Inicializar o StandardScaler\n",
        "scaler = StandardScaler()\n",
        "\n",
        "# Aplicar a normalização às colunas numéricas\n",
        "df[numerical_cols] = scaler.fit_transform(df[numerical_cols])\n",
        "\n",
        "# Exibir as primeiras linhas do DataFrame normalizado\n",
        "display(df.head())"
      ],
      "execution_count": null,
      "outputs": []
    },
    {
      "cell_type": "markdown",
      "metadata": {
        "id": "95a13d4b"
      },
      "source": [
        "## Separação de dados\n",
        "\n",
        "### Subtask:\n",
        "Dividir os dados em conjuntos de treino (80%) e teste (20%).\n"
      ]
    },
    {
      "cell_type": "markdown",
      "metadata": {
        "id": "24812340"
      },
      "source": [
        "**Reasoning**:\n",
        "Definir as features (X) e o target (y) para os modelos de regressão e dividir os dados em conjuntos de treino e teste."
      ]
    },
    {
      "cell_type": "code",
      "metadata": {
        "id": "1ff56eab"
      },
      "source": [
        "# Definir features (X) e target (y)\n",
        "features = ['Wind Speed (m/s)', 'Theoretical_Power_Curve (KWh)', 'Wind Direction (°)']\n",
        "target = 'LV ActivePower (kW)'\n",
        "\n",
        "X = df[features]\n",
        "y = df[target]\n",
        "\n",
        "# Dividir os dados em conjuntos de treino e teste\n",
        "X_train, X_test, y_train, y_test = train_test_split(X, y, test_size=0.2, random_state=42)\n",
        "\n",
        "print(\"Separação de dados completa.\")\n",
        "print(f\"Formato de X_treino: {X_train.shape}\")\n",
        "print(f\"Formato de X_teste: {X_test.shape}\")\n",
        "print(f\"Formato de y_treino: {y_train.shape}\")\n",
        "print(f\"Formato de y_teste: {y_test.shape}\")"
      ],
      "execution_count": null,
      "outputs": []
    },
    {
      "cell_type": "markdown",
      "metadata": {
        "id": "fbef3de2"
      },
      "source": [
        "## Treinamento e avaliação de modelos\n",
        "\n",
        "### Subtask:\n",
        "Treinar e avaliar os modelos de Regressão Linear, Árvore de Regressão e Random Forest Regressor usando as métricas RMSE e R².\n"
      ]
    },
    {
      "cell_type": "code",
      "metadata": {
        "id": "uPpdaoPM6qT_"
      },
      "source": [
        "# Inicializar e treinar o modelo de Regressão Linear\n",
        "lr_model = LinearRegression()\n",
        "lr_model.fit(X_train, y_train)\n",
        "\n",
        "# Fazer previsões\n",
        "y_pred_lr = lr_model.predict(X_test)\n",
        "\n",
        "# Calcular métricas\n",
        "mse_lr = mean_squared_error(y_test, y_pred_lr)\n",
        "rmse_lr = np.sqrt(mse_lr)\n",
        "r2_lr = r2_score(y_test, y_pred_lr)\n",
        "\n",
        "print(f\"Desempenho do Modelo de Regressão Linear:\")\n",
        "print(f\"  Erro Quadrático Médio (MSE): {mse_lr:.4f}\")\n",
        "print(f\"  Raiz do Erro Quadrático Médio (RMSE): {rmse_lr:.4f}\")\n",
        "print(f\"  R-quadrado (R²): {r2_lr:.4f}\")\n",
        "\n",
        "# Inicializar e treinar o modelo de Árvore de Regressão\n",
        "dt_model = DecisionTreeRegressor(random_state=42)\n",
        "dt_model.fit(X_train, y_train)\n",
        "\n",
        "# Fazer previsões\n",
        "y_pred_dt = dt_model.predict(X_test)\n",
        "\n",
        "# Calcular métricas\n",
        "mse_dt = mean_squared_error(y_test, y_pred_dt)\n",
        "rmse_dt = np.sqrt(mse_dt)\n",
        "r2_dt = r2_score(y_test, y_pred_dt)\n",
        "\n",
        "print(f\"\\nDesempenho do Modelo de Árvore de Regressão:\")\n",
        "print(f\"  Erro Quadrático Médio (MSE): {mse_dt:.4f}\")\n",
        "print(f\"  Raiz do Erro Quadrático Médio (RMSE): {rmse_dt:.4f}\")\n",
        "print(f\"  R-quadrado (R²): {r2_dt:.4f}\")\n",
        "\n",
        "# Inicializar e treinar o modelo Random Forest Regressor\n",
        "rf_model = RandomForestRegressor(n_estimators=100, random_state=42)\n",
        "rf_model.fit(X_train, y_train)\n",
        "\n",
        "# Fazer previsões\n",
        "y_pred_rf = rf_model.predict(X_test)\n",
        "\n",
        "# Calcular métricas\n",
        "mse_rf = mean_squared_error(y_test, y_pred_rf)\n",
        "rmse_rf = np.sqrt(mse_rf)\n",
        "r2_rf = r2_score(y_test, y_pred_rf)\n",
        "\n",
        "print(f\"\\nDesempenho do Modelo Random Forest Regressor:\")\n",
        "print(f\"  Erro Quadrático Médio (MSE): {mse_rf:.4f}\")\n",
        "print(f\"  Raiz do Erro Quadrático Médio (RMSE): {rmse_rf:.4f}\")\n",
        "print(f\"  R-quadrado (R²): {r2_rf:.4f}\")\n",
        "\n",
        "# Armazenar resultados\n",
        "model_results = {\n",
        "    'Linear Regression': {'RMSE': rmse_lr, 'R2': r2_lr},\n",
        "    'Decision Tree Regressor': {'RMSE': rmse_dt, 'R2': r2_dt},\n",
        "    'Random Forest Regressor': {'RMSE': rmse_rf, 'R2': r2_rf}\n",
        "}"
      ],
      "execution_count": null,
      "outputs": []
    },
    {
      "cell_type": "markdown",
      "metadata": {
        "id": "c31fc157"
      },
      "source": [
        "## Comparação de resultados\n",
        "\n",
        "### Subtask:\n",
        "Comparar o desempenho dos modelos e discutir qual deles se ajusta melhor aos dados para a previsão da potência.\n"
      ]
    },
    {
      "cell_type": "code",
      "metadata": {
        "id": "6b391d3f"
      },
      "source": [
        "# Imprimir o cabeçalho da comparação de resultados\n",
        "print(\"Comparação dos Resultados dos Modelos:\")\n",
        "print(\"-\" * 40)\n",
        "# Iterar sobre os resultados dos modelos e imprimir as métricas\n",
        "for model_name, metrics in model_results.items():\n",
        "    print(f\"{model_name}:\")\n",
        "    print(f\"  RMSE: {metrics['RMSE']:.4f}\")\n",
        "    print(f\"  R²: {metrics['R2']:.4f}\")\n",
        "    print(\"-\" * 40)\n",
        "\n",
        "# Imprimir a discussão sobre os resultados\n",
        "print(\"\\nDiscussão:\")\n",
        "print(\"Com base nas métricas de avaliação (RMSE e R²), podemos comparar o desempenho dos três modelos:\")\n",
        "print(f\"- Regressão Linear: Apresentou RMSE de {model_results['Linear Regression']['RMSE']:.4f} e R² de {model_results['Linear Regression']['R2']:.4f}.\")\n",
        "print(f\"- Árvore de Regressão: Apresentou RMSE de {model_results['Decision Tree Regressor']['RMSE']:.4f} e R² de {model_results['Decision Tree Regressor']['R2']:.4f}.\")\n",
        "print(f\"- Random Forest Regressor: Apresentou RMSE de {model_results['Random Forest Regressor']['RMSE']:.4f} e R² de {model_results['Random Forest Regressor']['R2']:.4f}.\")\n",
        "print(\"\\nAnálise:\")\n",
        "print(\"O modelo Random Forest Regressor obteve o menor RMSE e o maior R², indicando que ele é o que melhor se ajusta aos dados e explica a maior proporção da variância na potência gerada. O modelo de Regressão Linear também teve um bom desempenho, com RMSE próximo ao do Random Forest e um R² elevado. A Árvore de Regressão, por outro lado, apresentou um RMSE maior e um R² menor em comparação com os outros dois modelos, sugerindo que ela não capturou tão bem a relação nos dados quanto os modelos de conjunto.\")\n",
        "print(\"\\nConclusão:\")\n",
        "print(\"Considerando o menor erro de previsão (RMSE) e a maior capacidade de explicar a variabilidade da potência gerada (R²), o modelo Random Forest Regressor parece ser o mais adequado para prever a potência das turbinas eólicas neste conjunto de dados.\")"
      ],
      "execution_count": null,
      "outputs": []
    },
    {
      "cell_type": "markdown",
      "metadata": {
        "id": "8c1ff3d4"
      },
      "source": [
        "## Resumo:\n",
        "\n",
        "### Principais Descobertas da Análise de Dados\n",
        "\n",
        "* O conjunto de dados não apresentou valores ausentes.\n",
        "* As características numéricas foram normalizadas com sucesso usando `StandardScaler`.\n",
        "* Os dados foram divididos em conjuntos de treino/teste de 80/20, resultando em 40424 amostras de treino e 10106 amostras de teste.\n",
        "* O modelo Random Forest Regressor alcançou o melhor desempenho com o menor RMSE ($0.0481$) e o maior R² ($0.9947$).\n",
        "* O modelo de Regressão Linear também teve um bom desempenho, com um RMSE de $0.0529$ e um R² de $0.9935$.\n",
        "* O modelo Árvore de Regressão teve um RMSE maior ($0.0682$) e um R² menor ($0.9892$) em comparação com os outros dois modelos.\n",
        "\n",
        "### Insights ou Próximos Passos\n",
        "\n",
        "* O Random Forest Regressor é o modelo mais adequado entre os testados para prever a saída de potência da turbina eólica com base nas características fornecidas e nas métricas de avaliação.\n",
        "* Otimizações adicionais do modelo Random Forest Regressor usando técnicas como ajuste de hiperparâmetros poderiam potencialmente levar a um desempenho ainda melhor."
      ]
    },
    {
      "cell_type": "markdown",
      "source": [
        "# **Conclusão**\n",
        "Com base nos resultados apresentados, o modelo Random Forest Regressor obteve o melhor desempenho para prever a potência das turbinas eólicas neste conjunto de dados, apresentando o menor RMSE e o maior R² em comparação com a Regressão Linear e a Árvore de Regressão.\n",
        "\n",
        "Embora a Regressão Linear também tenha demonstrado um bom ajuste, o Random Forest Regressor, como um modelo de conjunto, conseguiu capturar melhor as relações complexas nos dados, resultando em previsões mais precisas. A Árvore de Regressão teve o desempenho mais fraco entre os três, indicando que um único modelo de árvore pode não ser suficiente para modelar a variabilidade neste conjunto de dados.\n",
        "\n",
        "Para melhorar ainda mais a precisão da previsão, otimizações adicionais no modelo Random Forest Regressor, como ajuste de hiperparâmetros (por exemplo, número de estimadores, profundidade máxima da árvore), podem ser exploradas. Além disso, a engenharia de características ou a inclusão de outras variáveis ambientais relevantes podem potencialmente melhorar o desempenho do modelo."
      ],
      "metadata": {
        "id": "1OKX23Iv_sRd"
      }
    }
  ],
  "metadata": {
    "colab": {
      "name": "Damos-lhe as boas-vindas ao Colab",
      "provenance": [],
      "include_colab_link": true
    },
    "kernelspec": {
      "display_name": "Python 3",
      "name": "python3"
    }
  },
  "nbformat": 4,
  "nbformat_minor": 0
}